{
 "cells": [
  {
   "cell_type": "code",
   "execution_count": 17,
   "metadata": {},
   "outputs": [
    {
     "name": "stdout",
     "output_type": "stream",
     "text": [
      "請輸入攝氏溫度：20\n",
      "華氏溫度： 36.0\n"
     ]
    }
   ],
   "source": [
    "celsius=input(\"請輸入攝氏溫度：\")\n",
    "fahrenheit = 9/5*int(celsius)\n",
    "print(\"華氏溫度：\",fahrenheit)"
   ]
  },
  {
   "cell_type": "code",
   "execution_count": 20,
   "metadata": {},
   "outputs": [
    {
     "name": "stdout",
     "output_type": "stream",
     "text": [
      "無解\n"
     ]
    }
   ],
   "source": [
    "#雞兔同籠，若有35個頭，94隻腳，問共有幾隻雞?幾隻兔?\n",
    "for chicken in range(0,36):\n",
    "    rabbit=35-chicken\n",
    "    if (2*chicken+4*rabbit) == 95:\n",
    "        print(\"雞有\",chicken,\"隻，兔有\",rabbit,\"隻\")\n",
    "        break\n",
    "else:\n",
    "    print(\"無解\")"
   ]
  },
  {
   "cell_type": "code",
   "execution_count": 23,
   "metadata": {},
   "outputs": [
    {
     "name": "stdout",
     "output_type": "stream",
     "text": [
      "1+2+3+...10為: 5050\n"
     ]
    }
   ],
   "source": [
    "#while迴圈\n",
    "sum=0\n",
    "count=0\n",
    "while count <=100 :\n",
    "    sum+=count\n",
    "    count+=1\n",
    "print(\"1+2+3+...10為:\",sum)"
   ]
  },
  {
   "cell_type": "code",
   "execution_count": null,
   "metadata": {},
   "outputs": [],
   "source": [
    "#本金10000元，年利率1%，請問多久銀行存款會加倍\n",
    "year=0\n",
    "x=10000\n",
    "while x <= 20000:\n",
    "    x=x*0.01\n",
    "    year +=1\n",
    "print(year,\"年後本金會變成\",int(x))"
   ]
  },
  {
   "cell_type": "code",
   "execution_count": null,
   "metadata": {},
   "outputs": [],
   "source": []
  }
 ],
 "metadata": {
  "kernelspec": {
   "display_name": "Python 3",
   "language": "python",
   "name": "python3"
  },
  "language_info": {
   "codemirror_mode": {
    "name": "ipython",
    "version": 3
   },
   "file_extension": ".py",
   "mimetype": "text/x-python",
   "name": "python",
   "nbconvert_exporter": "python",
   "pygments_lexer": "ipython3",
   "version": "3.6.4"
  }
 },
 "nbformat": 4,
 "nbformat_minor": 2
}
